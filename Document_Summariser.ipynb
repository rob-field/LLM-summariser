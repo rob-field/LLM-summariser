{
  "nbformat": 4,
  "nbformat_minor": 0,
  "metadata": {
    "colab": {
      "provenance": [],
      "machine_shape": "hm",
      "gpuType": "T4"
    },
    "kernelspec": {
      "name": "python3",
      "display_name": "Python 3"
    },
    "language_info": {
      "name": "python"
    },
    "accelerator": "GPU"
  },
  "cells": [
    {
      "cell_type": "markdown",
      "source": [
        "# Installs"
      ],
      "metadata": {
        "id": "b-zWBKw6Tgbt"
      }
    },
    {
      "cell_type": "code",
      "source": [
        "!pip install torch>=2.0.1 safetensors==0.3.1 sentencepiece>=0.1.97 ninja==1.11.1"
      ],
      "metadata": {
        "id": "fx1fus-vTfik"
      },
      "execution_count": 1,
      "outputs": []
    },
    {
      "cell_type": "code",
      "source": [
        "!pip install --pre torch --index-url https://download.pytorch.org/whl/nightly/cu118"
      ],
      "metadata": {
        "id": "IFq2AN1ITkDh"
      },
      "execution_count": null,
      "outputs": []
    },
    {
      "cell_type": "code",
      "source": [
        "# Formatting to wrap output text\n",
        "from IPython.display import HTML, display\n",
        "\n",
        "def set_css():\n",
        "  display(HTML('''\n",
        "  <style>\n",
        "    pre {\n",
        "        white-space: pre-wrap;\n",
        "    }\n",
        "  </style>\n",
        "  '''))\n",
        "get_ipython().events.register('pre_run_cell', set_css)"
      ],
      "metadata": {
        "id": "K-eAX1bZTlfO"
      },
      "execution_count": 3,
      "outputs": []
    },
    {
      "cell_type": "code",
      "source": [
        "!git clone https://github.com/turboderp/exllamav2"
      ],
      "metadata": {
        "id": "K8u_VJmmToaJ"
      },
      "execution_count": null,
      "outputs": []
    },
    {
      "cell_type": "code",
      "source": [
        "%cd /content/exllamav2"
      ],
      "metadata": {
        "id": "UyFqGZbnTprH"
      },
      "execution_count": null,
      "outputs": []
    },
    {
      "cell_type": "code",
      "source": [
        "!pip install -r requirements.txt"
      ],
      "metadata": {
        "id": "YCF3aJsTTrRC"
      },
      "execution_count": null,
      "outputs": []
    },
    {
      "cell_type": "code",
      "source": [
        "import sys, os\n",
        "sys.path.append(\"/content/exllamav2\")"
      ],
      "metadata": {
        "colab": {
          "base_uri": "https://localhost:8080/",
          "height": 17
        },
        "id": "2MyQucHhTs4W",
        "outputId": "2edd9198-5762-4eb4-fc3d-04373137d32d"
      },
      "execution_count": 7,
      "outputs": [
        {
          "output_type": "display_data",
          "data": {
            "text/plain": [
              "<IPython.core.display.HTML object>"
            ],
            "text/html": [
              "\n",
              "  <style>\n",
              "    pre {\n",
              "        white-space: pre-wrap;\n",
              "    }\n",
              "  </style>\n",
              "  "
            ]
          },
          "metadata": {}
        }
      ]
    },
    {
      "cell_type": "markdown",
      "source": [
        "# Scraping the Podcast Data"
      ],
      "metadata": {
        "id": "r8tZmNLuTW8u"
      }
    },
    {
      "cell_type": "code",
      "execution_count": 8,
      "metadata": {
        "colab": {
          "base_uri": "https://localhost:8080/",
          "height": 17
        },
        "id": "rlLmeLDEHngC",
        "outputId": "9034234c-636a-4b5c-b7fa-bb6afa06b32c"
      },
      "outputs": [
        {
          "output_type": "display_data",
          "data": {
            "text/plain": [
              "<IPython.core.display.HTML object>"
            ],
            "text/html": [
              "\n",
              "  <style>\n",
              "    pre {\n",
              "        white-space: pre-wrap;\n",
              "    }\n",
              "  </style>\n",
              "  "
            ]
          },
          "metadata": {}
        }
      ],
      "source": [
        "import requests\n",
        "from bs4 import BeautifulSoup\n",
        "import csv\n",
        "import pandas as pd\n",
        "import numpy as np"
      ]
    },
    {
      "cell_type": "code",
      "source": [
        "headers = {'User-Agent': 'Mozilla/5.0'}\n",
        "\n",
        "# Function to scrape podcast URLs from main page\n",
        "def get_podcast_urls(main_url):\n",
        "    response = requests.get(main_url, headers=headers)\n",
        "    soup = BeautifulSoup(response.content, 'html.parser')\n",
        "\n",
        "    # Find the ul containing podcast URLs\n",
        "    podcast_list = soup.find('ul', {'id': 'lcp_instance_0', 'class': 'lcp_catlist'})\n",
        "\n",
        "    podcasts = []\n",
        "    for li in podcast_list:\n",
        "      a_tag = li.find('a', href=True)\n",
        "      if a_tag:\n",
        "        url = a_tag['href']\n",
        "        name = a_tag.text\n",
        "        podcasts.append((url, name))\n",
        "\n",
        "    return podcasts"
      ],
      "metadata": {
        "id": "t4NAnD61IWS6"
      },
      "execution_count": 62,
      "outputs": []
    },
    {
      "cell_type": "code",
      "source": [
        "# Function to extract transcript text\n",
        "def scrape_podcast(podcast_data, csv_writer):\n",
        "    podcast_url, podcast_name = podcast_data\n",
        "    response = requests.get(podcast_url, headers=headers)\n",
        "    soup = BeautifulSoup(response.content, 'html.parser')\n",
        "\n",
        "    transcript_div = soup.find('div', class_='et_pb_module et_pb_post_content et_pb_post_content_0_tb_body speaking')\n",
        "\n",
        "    if transcript_div:\n",
        "        speeches = transcript_div.find_all('p')\n",
        "        for speech in speeches:\n",
        "            parts = speech.text.split(':', 1)\n",
        "            if len(parts) == 2:\n",
        "                speaker, text = parts\n",
        "                csv_writer.writerow([podcast_name, speaker.strip(), text.strip()])"
      ],
      "metadata": {
        "id": "88-T5uAjIcMh"
      },
      "execution_count": 65,
      "outputs": []
    },
    {
      "cell_type": "code",
      "source": [
        "main_url = 'https://healthliteracy.com/podcast-transcripts/'\n",
        "folder_dir = \"/content/drive/MyDrive/Projects/Podcast Summariser\"\n",
        "\n",
        "# Get list of podcast URLs\n",
        "podcast_urls = get_podcast_urls(main_url)"
      ],
      "metadata": {
        "id": "d38wNH9WId-S"
      },
      "execution_count": 63,
      "outputs": []
    },
    {
      "cell_type": "code",
      "source": [
        "podcast_urls"
      ],
      "metadata": {
        "id": "YO-NobsJQQA5"
      },
      "execution_count": null,
      "outputs": []
    },
    {
      "cell_type": "code",
      "source": [
        "# Open CSV for writing\n",
        "with open(f\"{folder_dir}/interviews.csv\", 'w', newline='', encoding='utf-8') as file:\n",
        "    writer = csv.writer(file)\n",
        "    writer.writerow(['Speaker', 'Text'])\n",
        "\n",
        "    for url in podcast_urls:\n",
        "      scrape_podcast(url, writer)\n",
        "\n",
        "print(\"Scraping completed and saved to interviews.csv\")"
      ],
      "metadata": {
        "colab": {
          "base_uri": "https://localhost:8080/"
        },
        "id": "vtLAThVqJIlW",
        "outputId": "b53b7b41-398f-4b67-9aa5-5160fe5ede78"
      },
      "execution_count": 66,
      "outputs": [
        {
          "output_type": "stream",
          "name": "stdout",
          "text": [
            "Scraping completed and saved to interviews.csv\n"
          ]
        }
      ]
    },
    {
      "cell_type": "markdown",
      "source": [
        "Final Dataset"
      ],
      "metadata": {
        "id": "t0UIL2tDXzj5"
      }
    },
    {
      "cell_type": "code",
      "source": [
        "interviews_df = pd.read_csv(\"/content/drive/MyDrive/Projects/Podcast Summariser/interviews.csv\")\n",
        "interviews_df = interviews_df.reset_index()\n",
        "interviews_df = interviews_df.rename(columns={'index': 'Title'})"
      ],
      "metadata": {
        "colab": {
          "base_uri": "https://localhost:8080/",
          "height": 17
        },
        "id": "cH58to0tI2yW",
        "outputId": "64847cc1-b617-4e96-a935-92066509f67f"
      },
      "execution_count": 9,
      "outputs": [
        {
          "output_type": "display_data",
          "data": {
            "text/plain": [
              "<IPython.core.display.HTML object>"
            ],
            "text/html": [
              "\n",
              "  <style>\n",
              "    pre {\n",
              "        white-space: pre-wrap;\n",
              "    }\n",
              "  </style>\n",
              "  "
            ]
          },
          "metadata": {}
        }
      ]
    },
    {
      "cell_type": "code",
      "source": [
        "interviews_df.head()"
      ],
      "metadata": {
        "colab": {
          "base_uri": "https://localhost:8080/",
          "height": 206
        },
        "id": "AOPMDov5JCTr",
        "outputId": "e3b1befb-5227-46bd-c1b9-04f885ec0f87"
      },
      "execution_count": 10,
      "outputs": [
        {
          "output_type": "display_data",
          "data": {
            "text/plain": [
              "<IPython.core.display.HTML object>"
            ],
            "text/html": [
              "\n",
              "  <style>\n",
              "    pre {\n",
              "        white-space: pre-wrap;\n",
              "    }\n",
              "  </style>\n",
              "  "
            ]
          },
          "metadata": {}
        },
        {
          "output_type": "execute_result",
          "data": {
            "text/plain": [
              "                                               Title            Speaker  \\\n",
              "0  Health Literacy: Helping Patients Feel Cared F...      Helen Osborne   \n",
              "1  Health Literacy: Helping Patients Feel Cared F...  Dr. Mark Williams   \n",
              "2  Health Literacy: Helping Patients Feel Cared F...      Helen Osborne   \n",
              "3  Health Literacy: Helping Patients Feel Cared F...  Dr. Mark Williams   \n",
              "4  Health Literacy: Helping Patients Feel Cared F...      Helen Osborne   \n",
              "\n",
              "                                                Text  \n",
              "0  Welcome to Health Literacy Out Loud. I’m Helen...  \n",
              "1  Thanks, Helen. It’s an honor to be able to tak...  \n",
              "2  I’m your great fan. In that 1995 paper, which ...  \n",
              "3  That’s fascinating. We always suspected as we ...  \n",
              "4  I know. I treasure all the people doing this t...  "
            ],
            "text/html": [
              "\n",
              "  <div id=\"df-52171271-8d27-4c4b-baad-be012b2d8c3d\" class=\"colab-df-container\">\n",
              "    <div>\n",
              "<style scoped>\n",
              "    .dataframe tbody tr th:only-of-type {\n",
              "        vertical-align: middle;\n",
              "    }\n",
              "\n",
              "    .dataframe tbody tr th {\n",
              "        vertical-align: top;\n",
              "    }\n",
              "\n",
              "    .dataframe thead th {\n",
              "        text-align: right;\n",
              "    }\n",
              "</style>\n",
              "<table border=\"1\" class=\"dataframe\">\n",
              "  <thead>\n",
              "    <tr style=\"text-align: right;\">\n",
              "      <th></th>\n",
              "      <th>Title</th>\n",
              "      <th>Speaker</th>\n",
              "      <th>Text</th>\n",
              "    </tr>\n",
              "  </thead>\n",
              "  <tbody>\n",
              "    <tr>\n",
              "      <th>0</th>\n",
              "      <td>Health Literacy: Helping Patients Feel Cared F...</td>\n",
              "      <td>Helen Osborne</td>\n",
              "      <td>Welcome to Health Literacy Out Loud. I’m Helen...</td>\n",
              "    </tr>\n",
              "    <tr>\n",
              "      <th>1</th>\n",
              "      <td>Health Literacy: Helping Patients Feel Cared F...</td>\n",
              "      <td>Dr. Mark Williams</td>\n",
              "      <td>Thanks, Helen. It’s an honor to be able to tak...</td>\n",
              "    </tr>\n",
              "    <tr>\n",
              "      <th>2</th>\n",
              "      <td>Health Literacy: Helping Patients Feel Cared F...</td>\n",
              "      <td>Helen Osborne</td>\n",
              "      <td>I’m your great fan. In that 1995 paper, which ...</td>\n",
              "    </tr>\n",
              "    <tr>\n",
              "      <th>3</th>\n",
              "      <td>Health Literacy: Helping Patients Feel Cared F...</td>\n",
              "      <td>Dr. Mark Williams</td>\n",
              "      <td>That’s fascinating. We always suspected as we ...</td>\n",
              "    </tr>\n",
              "    <tr>\n",
              "      <th>4</th>\n",
              "      <td>Health Literacy: Helping Patients Feel Cared F...</td>\n",
              "      <td>Helen Osborne</td>\n",
              "      <td>I know. I treasure all the people doing this t...</td>\n",
              "    </tr>\n",
              "  </tbody>\n",
              "</table>\n",
              "</div>\n",
              "    <div class=\"colab-df-buttons\">\n",
              "\n",
              "  <div class=\"colab-df-container\">\n",
              "    <button class=\"colab-df-convert\" onclick=\"convertToInteractive('df-52171271-8d27-4c4b-baad-be012b2d8c3d')\"\n",
              "            title=\"Convert this dataframe to an interactive table.\"\n",
              "            style=\"display:none;\">\n",
              "\n",
              "  <svg xmlns=\"http://www.w3.org/2000/svg\" height=\"24px\" viewBox=\"0 -960 960 960\">\n",
              "    <path d=\"M120-120v-720h720v720H120Zm60-500h600v-160H180v160Zm220 220h160v-160H400v160Zm0 220h160v-160H400v160ZM180-400h160v-160H180v160Zm440 0h160v-160H620v160ZM180-180h160v-160H180v160Zm440 0h160v-160H620v160Z\"/>\n",
              "  </svg>\n",
              "    </button>\n",
              "\n",
              "  <style>\n",
              "    .colab-df-container {\n",
              "      display:flex;\n",
              "      gap: 12px;\n",
              "    }\n",
              "\n",
              "    .colab-df-convert {\n",
              "      background-color: #E8F0FE;\n",
              "      border: none;\n",
              "      border-radius: 50%;\n",
              "      cursor: pointer;\n",
              "      display: none;\n",
              "      fill: #1967D2;\n",
              "      height: 32px;\n",
              "      padding: 0 0 0 0;\n",
              "      width: 32px;\n",
              "    }\n",
              "\n",
              "    .colab-df-convert:hover {\n",
              "      background-color: #E2EBFA;\n",
              "      box-shadow: 0px 1px 2px rgba(60, 64, 67, 0.3), 0px 1px 3px 1px rgba(60, 64, 67, 0.15);\n",
              "      fill: #174EA6;\n",
              "    }\n",
              "\n",
              "    .colab-df-buttons div {\n",
              "      margin-bottom: 4px;\n",
              "    }\n",
              "\n",
              "    [theme=dark] .colab-df-convert {\n",
              "      background-color: #3B4455;\n",
              "      fill: #D2E3FC;\n",
              "    }\n",
              "\n",
              "    [theme=dark] .colab-df-convert:hover {\n",
              "      background-color: #434B5C;\n",
              "      box-shadow: 0px 1px 3px 1px rgba(0, 0, 0, 0.15);\n",
              "      filter: drop-shadow(0px 1px 2px rgba(0, 0, 0, 0.3));\n",
              "      fill: #FFFFFF;\n",
              "    }\n",
              "  </style>\n",
              "\n",
              "    <script>\n",
              "      const buttonEl =\n",
              "        document.querySelector('#df-52171271-8d27-4c4b-baad-be012b2d8c3d button.colab-df-convert');\n",
              "      buttonEl.style.display =\n",
              "        google.colab.kernel.accessAllowed ? 'block' : 'none';\n",
              "\n",
              "      async function convertToInteractive(key) {\n",
              "        const element = document.querySelector('#df-52171271-8d27-4c4b-baad-be012b2d8c3d');\n",
              "        const dataTable =\n",
              "          await google.colab.kernel.invokeFunction('convertToInteractive',\n",
              "                                                    [key], {});\n",
              "        if (!dataTable) return;\n",
              "\n",
              "        const docLinkHtml = 'Like what you see? Visit the ' +\n",
              "          '<a target=\"_blank\" href=https://colab.research.google.com/notebooks/data_table.ipynb>data table notebook</a>'\n",
              "          + ' to learn more about interactive tables.';\n",
              "        element.innerHTML = '';\n",
              "        dataTable['output_type'] = 'display_data';\n",
              "        await google.colab.output.renderOutput(dataTable, element);\n",
              "        const docLink = document.createElement('div');\n",
              "        docLink.innerHTML = docLinkHtml;\n",
              "        element.appendChild(docLink);\n",
              "      }\n",
              "    </script>\n",
              "  </div>\n",
              "\n",
              "\n",
              "<div id=\"df-bca28cf4-e3d1-4500-b458-10f1d7bb115f\">\n",
              "  <button class=\"colab-df-quickchart\" onclick=\"quickchart('df-bca28cf4-e3d1-4500-b458-10f1d7bb115f')\"\n",
              "            title=\"Suggest charts.\"\n",
              "            style=\"display:none;\">\n",
              "\n",
              "<svg xmlns=\"http://www.w3.org/2000/svg\" height=\"24px\"viewBox=\"0 0 24 24\"\n",
              "     width=\"24px\">\n",
              "    <g>\n",
              "        <path d=\"M19 3H5c-1.1 0-2 .9-2 2v14c0 1.1.9 2 2 2h14c1.1 0 2-.9 2-2V5c0-1.1-.9-2-2-2zM9 17H7v-7h2v7zm4 0h-2V7h2v10zm4 0h-2v-4h2v4z\"/>\n",
              "    </g>\n",
              "</svg>\n",
              "  </button>\n",
              "\n",
              "<style>\n",
              "  .colab-df-quickchart {\n",
              "      --bg-color: #E8F0FE;\n",
              "      --fill-color: #1967D2;\n",
              "      --hover-bg-color: #E2EBFA;\n",
              "      --hover-fill-color: #174EA6;\n",
              "      --disabled-fill-color: #AAA;\n",
              "      --disabled-bg-color: #DDD;\n",
              "  }\n",
              "\n",
              "  [theme=dark] .colab-df-quickchart {\n",
              "      --bg-color: #3B4455;\n",
              "      --fill-color: #D2E3FC;\n",
              "      --hover-bg-color: #434B5C;\n",
              "      --hover-fill-color: #FFFFFF;\n",
              "      --disabled-bg-color: #3B4455;\n",
              "      --disabled-fill-color: #666;\n",
              "  }\n",
              "\n",
              "  .colab-df-quickchart {\n",
              "    background-color: var(--bg-color);\n",
              "    border: none;\n",
              "    border-radius: 50%;\n",
              "    cursor: pointer;\n",
              "    display: none;\n",
              "    fill: var(--fill-color);\n",
              "    height: 32px;\n",
              "    padding: 0;\n",
              "    width: 32px;\n",
              "  }\n",
              "\n",
              "  .colab-df-quickchart:hover {\n",
              "    background-color: var(--hover-bg-color);\n",
              "    box-shadow: 0 1px 2px rgba(60, 64, 67, 0.3), 0 1px 3px 1px rgba(60, 64, 67, 0.15);\n",
              "    fill: var(--button-hover-fill-color);\n",
              "  }\n",
              "\n",
              "  .colab-df-quickchart-complete:disabled,\n",
              "  .colab-df-quickchart-complete:disabled:hover {\n",
              "    background-color: var(--disabled-bg-color);\n",
              "    fill: var(--disabled-fill-color);\n",
              "    box-shadow: none;\n",
              "  }\n",
              "\n",
              "  .colab-df-spinner {\n",
              "    border: 2px solid var(--fill-color);\n",
              "    border-color: transparent;\n",
              "    border-bottom-color: var(--fill-color);\n",
              "    animation:\n",
              "      spin 1s steps(1) infinite;\n",
              "  }\n",
              "\n",
              "  @keyframes spin {\n",
              "    0% {\n",
              "      border-color: transparent;\n",
              "      border-bottom-color: var(--fill-color);\n",
              "      border-left-color: var(--fill-color);\n",
              "    }\n",
              "    20% {\n",
              "      border-color: transparent;\n",
              "      border-left-color: var(--fill-color);\n",
              "      border-top-color: var(--fill-color);\n",
              "    }\n",
              "    30% {\n",
              "      border-color: transparent;\n",
              "      border-left-color: var(--fill-color);\n",
              "      border-top-color: var(--fill-color);\n",
              "      border-right-color: var(--fill-color);\n",
              "    }\n",
              "    40% {\n",
              "      border-color: transparent;\n",
              "      border-right-color: var(--fill-color);\n",
              "      border-top-color: var(--fill-color);\n",
              "    }\n",
              "    60% {\n",
              "      border-color: transparent;\n",
              "      border-right-color: var(--fill-color);\n",
              "    }\n",
              "    80% {\n",
              "      border-color: transparent;\n",
              "      border-right-color: var(--fill-color);\n",
              "      border-bottom-color: var(--fill-color);\n",
              "    }\n",
              "    90% {\n",
              "      border-color: transparent;\n",
              "      border-bottom-color: var(--fill-color);\n",
              "    }\n",
              "  }\n",
              "</style>\n",
              "\n",
              "  <script>\n",
              "    async function quickchart(key) {\n",
              "      const quickchartButtonEl =\n",
              "        document.querySelector('#' + key + ' button');\n",
              "      quickchartButtonEl.disabled = true;  // To prevent multiple clicks.\n",
              "      quickchartButtonEl.classList.add('colab-df-spinner');\n",
              "      try {\n",
              "        const charts = await google.colab.kernel.invokeFunction(\n",
              "            'suggestCharts', [key], {});\n",
              "      } catch (error) {\n",
              "        console.error('Error during call to suggestCharts:', error);\n",
              "      }\n",
              "      quickchartButtonEl.classList.remove('colab-df-spinner');\n",
              "      quickchartButtonEl.classList.add('colab-df-quickchart-complete');\n",
              "    }\n",
              "    (() => {\n",
              "      let quickchartButtonEl =\n",
              "        document.querySelector('#df-bca28cf4-e3d1-4500-b458-10f1d7bb115f button');\n",
              "      quickchartButtonEl.style.display =\n",
              "        google.colab.kernel.accessAllowed ? 'block' : 'none';\n",
              "    })();\n",
              "  </script>\n",
              "</div>\n",
              "    </div>\n",
              "  </div>\n"
            ]
          },
          "metadata": {},
          "execution_count": 10
        }
      ]
    },
    {
      "cell_type": "markdown",
      "source": [
        "# Using LLM for Summarisation"
      ],
      "metadata": {
        "id": "u36cjjydTaYm"
      }
    },
    {
      "cell_type": "code",
      "source": [
        "# Number of episodes scraped\n",
        "len(interviews_df['Title'].unique())"
      ],
      "metadata": {
        "colab": {
          "base_uri": "https://localhost:8080/",
          "height": 35
        },
        "id": "Im84b0fwosqY",
        "outputId": "d3d5da1c-99e0-4723-fdaf-7f2291dc891a"
      },
      "execution_count": 89,
      "outputs": [
        {
          "output_type": "display_data",
          "data": {
            "text/plain": [
              "<IPython.core.display.HTML object>"
            ],
            "text/html": [
              "\n",
              "  <style>\n",
              "    pre {\n",
              "        white-space: pre-wrap;\n",
              "    }\n",
              "  </style>\n",
              "  "
            ]
          },
          "metadata": {}
        },
        {
          "output_type": "execute_result",
          "data": {
            "text/plain": [
              "185"
            ]
          },
          "metadata": {},
          "execution_count": 89
        }
      ]
    },
    {
      "cell_type": "code",
      "source": [
        "# Titles of the podcasts/interviews\n",
        "interviews_df['Title'].unique()"
      ],
      "metadata": {
        "colab": {
          "base_uri": "https://localhost:8080/",
          "height": 1000
        },
        "id": "ve8XULcpJDG_",
        "outputId": "4809e653-e78a-4d7b-84b4-3411c9a2bf83"
      },
      "execution_count": 76,
      "outputs": [
        {
          "output_type": "display_data",
          "data": {
            "text/plain": [
              "<IPython.core.display.HTML object>"
            ],
            "text/html": [
              "\n",
              "  <style>\n",
              "    pre {\n",
              "        white-space: pre-wrap;\n",
              "    }\n",
              "  </style>\n",
              "  "
            ]
          },
          "metadata": {}
        },
        {
          "output_type": "execute_result",
          "data": {
            "text/plain": [
              "array(['Health Literacy: Helping Patients Feel Cared For, and Cared About (HLOL #239)',\n",
              "       'Artificial Intelligence & Health Communication (HLOL #238)',\n",
              "       'The Language of Civility (HLOL #237)',\n",
              "       'Television Ads for Medications (HLOL #236)',\n",
              "       'The Value of Knowing Why Health Literacy Matters (HLOL #235)',\n",
              "       'Time Toxicity: Time that Patients Can Lose to Treatment (HLOL #234)',\n",
              "       'Using Art to Communicate About Surgery (HLOL #233)',\n",
              "       'Communicating About Potential Healthcare Fraud and Abuse (HLOL #232)',\n",
              "       'Words Matter: What We Say and Write Can Affect Health Understanding (HLOL #231)',\n",
              "       'Wellness and Health Literacy (HLOL #230)',\n",
              "       'Oral Health Literacy: How Diseases of the Mouth Affect Overall Health (HLOL #229)',\n",
              "       'Bullet Points and Other Types of Lists (HLOL #228)',\n",
              "       'A Standardized Patient’s Perspective of Health Communication (HLOL #227)',\n",
              "       'Building Trust with Each Audience (HLOL #226)',\n",
              "       'Live Virtual Group Patient Education: Creating Content, Delivering Sessions, and Meeting Needs (HLOL #225)',\n",
              "       'Health Communication in Context of Each Person’s Life (HLOL #224)',\n",
              "       'Blood Testing: What Is Learned in the Lab (HLOL #223)',\n",
              "       'Survivors? Choosing Words about People Who Have, or Have Had, a Serious Illness (HLOL #222)',\n",
              "       'Communicating When Vision is a Concern (HLOL #221)',\n",
              "       'Motivational Interviewing (HLOL #220)',\n",
              "       'Making Materials Relatable and Readable (HLOL #219)',\n",
              "       'Patients as partners in medical education, practice, and governance (HLOL #218)',\n",
              "       'Publishing and Sharing Health Literacy Research and Experiences (HLOL #217)',\n",
              "       'Plain Language Summaries of Research Studies (HLOL #216)',\n",
              "       'New Clinicians & Health Literacy: Putting Classroom Learning into Everyday Practice (HLOL #215)',\n",
              "       'Biologic Sex, Gender Identity and Expression, and Other Issues to Consider When Communicating About Health (HLOL #214)',\n",
              "       'Uncertainty: What It Is and Ways to Help (HLOL #213)',\n",
              "       'Making Health Information Accessible to People with Disabilities (HLOL #212)',\n",
              "       'Patient Authors of Research Studies (HLOL #211)',\n",
              "       'Talking about Patient Education Practice Guidelines for Health Professionals (HLOL #210)',\n",
              "       'Telemedicine: Communicating About Health by Phone or 2-Way Video (HLOL #209)',\n",
              "       'Health Literacy Model with Multiple Variables and Actions (HLOL #208)',\n",
              "       'Pictograms: Images that Represent Ideas in Simple and Literal Ways (HLOL #207)',\n",
              "       'Designing Online Instructional Programs (HLOL #206)',\n",
              "       'Online Games and Health Teaching: For People of All Ages, Abilities, and Savvy (HLOL #205)',\n",
              "       'Writing Legal Notices to Help Readers Act in Their Best Interest (HLOL #204)',\n",
              "       'Health Literacy and Health Equity (HLOL #203)',\n",
              "       'Communicating Complex Health Messages in a Complex World (HLOL #202)',\n",
              "       'Creating Materials to Meet Urgent Health Needs (HLOL #201)',\n",
              "       'Health Literacy Out Loud: 200 Episodes of Listening & Learning (HLOL #200)',\n",
              "       'Integrating Health Literacy into Clinical Research (HLOL #199)',\n",
              "       'Patient-Oriented Discharge Summaries: Helping Patients Easily Understand Their Transition from Hospital to Home (HLOL #198)',\n",
              "       'Promoting Early Childhood Literacy through Local Laundromats (HLOL #197)',\n",
              "       'My Life, My Story: In Initiative to Help Tell Each Patient’s Story (HLOL #196)',\n",
              "       'Encouraging Healthy Food Choices with Traffic-Light Labels and Choice Architecture (HLOL #195)',\n",
              "       'How Chaplains Help Patients Make Meaning of Illness (HLOL #194)',\n",
              "       'Communicating About Alzheimer’s and Related Dementias (HLOL #193)',\n",
              "       'PREPARE For Your Care: An Online Tool to Make Medical Decision Making Easier for Patients and Caregivers (HLOL #192)',\n",
              "       'Health Literacy Month: 20th Anniversary Edition (HLOL #191)',\n",
              "       'When Patient’s Create Their Own Medical Binders: A Powerful Way to Get Organized and Feel More in Control (HLOL #190)',\n",
              "       'Vaccine Literacy (HLOL #189)',\n",
              "       'Health Literacy Listening Tour (HLOL#188)',\n",
              "       'Archie Willard Talks about Struggling to Read (HLOL #187)',\n",
              "       'The Family’s Voice in Practice, Research, and Foundations (HLOL #186)',\n",
              "       'Communicating When There Is a Wide Range of Worry (HLOL #185)',\n",
              "       'Health Literacy and People Who Are Homeless (HLOL #184)',\n",
              "       'Building Bridges of Health Literacy: Connecting Globally, Acting Locally, Learning Together (HLOL #183)',\n",
              "       'Elderspeak (HLOL #182)',\n",
              "       'Communicating Clearly Takes More Than Simple Words (HLOL #181)',\n",
              "       'The Opioid Crisis and Health Literacy (HLOL #180)',\n",
              "       'Plain Language: It’s About Smartening Up, Not Dumbing Down (HLOL #179)',\n",
              "       'Visual Metaphors: When Words Alone Are Not Enough (HLOL #178)',\n",
              "       'Health Literacy and Justice-Involved Individuals (HLOL #177)',\n",
              "       'Alan Alda Center for Communicating Science: Using Improv to Communicate with Your Audience in Effective and Engaging Ways (HLOL #176)',\n",
              "       'Making Lab Test Results More Meaningful (HLOL #175)',\n",
              "       'Dream Big: Making a Health Literacy Difference Within an Organization and Beyond (HLOL #174)',\n",
              "       'Talking About Ticks and Other Environmental Health Concerns. (HLOL #173)',\n",
              "       'Digital Content Strategy: Being Agile When Communicating About Health (HLOL #172)',\n",
              "       'Consider Culture and Language When Communicating About Health (HLOL #171)',\n",
              "       'Wellness, Women, and Health Literacy (HLOL #170)',\n",
              "       'Law Enforcement, Risk Management, and Health Literacy (HLOL #169)',\n",
              "       'Advance Care Planning: Communicating Clearly Before There Is a Crisis (HLOL #168)',\n",
              "       'Efforts to Improve the Readability of Medication Labels (HLOL #167)',\n",
              "       'Using Technology to Share and Communicate the Experience of Illness (HLOL #166)',\n",
              "       'Each Patient’s Information Journey (HLOL #165)',\n",
              "       'Best Case/Worst Case: A Strategy to Manage Uncertainty in Shared Decision-Making (HLOL #164)',\n",
              "       'Older Adults, Brain Changes, and Health Understanding (HLOL #163)',\n",
              "       'Deconstructing Stigma: A Very Public Multimedia Project about Mental Illness (HLOL #162)',\n",
              "       'Health Literacy & Consumer Health Librarians (HLOL #162)',\n",
              "       'Reaching Out to Elected Officials about Health and Health Literacy (HLOL #160)',\n",
              "       'Communicating About Food in Culturally Sensitive Ways (HLOL #159)',\n",
              "       'Participants, Providers, and Policy Makers Working Together for Better Care (HLOL #158)',\n",
              "       'End of Life Education (HLOL #157)',\n",
              "       'Public Communication: Paying Attention to What We Say and Write (HLOL #156)',\n",
              "       'Thinking Big About Health Literacy (HLOL #155)',\n",
              "       'Open Notes: Building Transparency, Trust, and Better Health Outcomes (HLOL #154)',\n",
              "       'Making Personal Health Records Accessible to All (HLOL #153)',\n",
              "       'After Visit Summaries (HLOL #152)',\n",
              "       'Making a Case to Senior Leaders about Health Literacy (HLOL #151)',\n",
              "       'Ethics to Consider When Communicating About Health (HLOL #150)',\n",
              "       'Working with Journalists to Communicate about Health (HLOL #149)',\n",
              "       'Lawyers Can Help with Health Literacy, Too (HLOL #148)',\n",
              "       'Children, Media, and Positive Health Messaging (HLOL #147)',\n",
              "       'Implicit Bias: A Factor in Health Communication  (HLOL #146)',\n",
              "       'Patients as Consumers: Physician Conflict of Interest (HLOL #145)',\n",
              "       'Research to Practice: How Much Patient Teaching is Enough? (HLOL #144)',\n",
              "       'Creating Videos of Patients’ Stories to Inspire and Remind Caregivers About Why Their Work Matters (HLOL #143)',\n",
              "       'What To Do When Teaching About the Flu (HLOL #142)',\n",
              "       'Literacy & Health Literacy (HLOL #141)',\n",
              "       'Ethnodrama: Conveying Health Concepts in Culturally Relevant Ways (HLOL #140)',\n",
              "       'Health Literacy and The Joint Commission (HLOL #139)',\n",
              "       'Reporting about the Patient Experience (HLOL #138)',\n",
              "       'How to Find and Use Health Apps (HLOL #137)',\n",
              "       'Communicating About Health with LGBTQ Youth (HLOL #136)',\n",
              "       'Reviewing Health News (HLOL #135)',\n",
              "       'Translating Health Information (HLOL #134)',\n",
              "       'Improving the Patient Experience: How Healthcare Settings Can Build on Strategies that Work Well in Hotels (HLOL #133)',\n",
              "       'Helping Teens Transition from Pediatrics to Adult-Centered Care (HLOL #132)',\n",
              "       'A Patient’s Perspective about Health Communication (HLOL #131)',\n",
              "       'Health Literacy and Hearing Loss (HLOL #130)',\n",
              "       'Teach-back (HLOL #129)',\n",
              "       'Why Health Professionals Should Go Online (HLOL #128)',\n",
              "       'Partnering with the Media to Promote Health Literacy (HLOL #127)',\n",
              "       'Research About Using the Milliliter as a Standard Unit for Liquid Medication (HLOL #126)',\n",
              "       'Talking with Children about Troublesome Family Issues (HLOL #125)',\n",
              "       'Health Literacy Screening Tools (HLOL #124)',\n",
              "       'Health Literacy & the Newly Insured (HLOL #123)',\n",
              "       'Disruptive Innovation: The Next Generation of Health Literacy Products and Services (HLOL #122)',\n",
              "       'Learning and Teaching about Health & Insurance (HLOL #121)',\n",
              "       'Patients Unlike Others You’ve Treated Before (HLOL #120)',\n",
              "       'Before You Teach Find Out What Learners Know, Feel, and Believe (HLOL #119)',\n",
              "       'Communicating with Compassion (HLOL #118)',\n",
              "       'Consultations are Conversations: How Clinicians and Patients Can Help (HLOL #117)',\n",
              "       'Creating A Health Awareness Campaign (HLOL #116)',\n",
              "       'Health Literacy & New Technology: An App Challenge (HLOL #115)',\n",
              "       'IOM’s Health Literacy Roundtable (HLOL #114)',\n",
              "       'Presenting Data in Ways that Work for Most People, Most of the Time (HLOL #113)',\n",
              "       'Using Body & Voice to Communicate About Health (HLOL #112)',\n",
              "       'Dentists and Patients: How to Communicate Clearly (HLOL #111)',\n",
              "       'Comics and Medicine: That’s Health Literacy, Too (HLOL #110)',\n",
              "       'PEMAT: Patient Education Materials Assessment Tool (HLOL #109)',\n",
              "       'CDC’s Clear Communication Index (HLOL #108)',\n",
              "       'Health Literacy and Pediatrics (HLOL #107)',\n",
              "       'WikiProject Medicine: What It is, Why It Matters, How Health Literacy Advocates Can Help (HLOL #106)',\n",
              "       'Creating a Sustainable Health Literacy Business Model (HLOL #105)',\n",
              "       'Choosing Wisely: A Campaign Helping Patients Be Engaged Consumers (HLOL #104)',\n",
              "       'Health Literacy & Hearing Loss (HLOL #103)',\n",
              "       'When Communicating Risk, Consider What Patients Need and Want to Know (HLOL #102)',\n",
              "       'Communicating Clearly During Transitions of Care (HLOL #101)',\n",
              "       'Stages of Change & Health Communication (HLOL #100)',\n",
              "       'Poetry and Other Artful Ways to Communicate Health Messages (HLOL #99)',\n",
              "       'Communicating Clearly in a Crisis (HLOL #98)',\n",
              "       'Communicating Results of Mammograms and Other Screening Tests (HLOL #97)',\n",
              "       'Diagnosing Your Practice with Low Health Literacy (HLOL #96)',\n",
              "       'How Visual Cues Help Readers Read (HLOL #95)',\n",
              "       'Talking About Jargon (HLOL #94)',\n",
              "       'A Conversation about the Always Use Teach-back Technique! Toolkit ((HLOL #93)',\n",
              "       'Numeracy, Chronic Disease, and Repeat Emergency Room Visits or Hospitalizations (HLOL #92)',\n",
              "       'Helping People Learn About Health in India (HLOL #91, video)',\n",
              "       'Writing About Health for the New York Times (HLOL #90)',\n",
              "       'Health Education for Children with Disabilities (HLOL #89)',\n",
              "       'Health Literacy and Patient Safety (HLOL #88)',\n",
              "       'Choosing A Health Plan: Ways to Make This Experience Easier and More Consumer-Friendly (HLOL #87)',\n",
              "       'Making Research Consent Forms Easier for Patients to Understand (HLOL #86)',\n",
              "       'How to Create and Run Successful Health Literacy Conferences (HLOL #85)',\n",
              "       'Making A Business Case for Plain Language (HLOL #84)',\n",
              "       'Clearly Communicating Scientific Information (HLOL #83)',\n",
              "       'Attributes of Health Literate Organizations (HLOL #82)',\n",
              "       'The Future of US Healthcare (HLOL #81)',\n",
              "       'Using Twitter and Other Social Media to Communicate About Health Literacy (HLOL #80)',\n",
              "       'Understanding One Another Even When Language and Accents Differ (HLOL #79)',\n",
              "       'A Tool That Pictures Pain (HLOL #78)',\n",
              "       'Dr Howard K Koh, Assistant Secretary for HHS, Talks About Boosting Health Literacy to Move Beyond the Cycle of Costly Crisis Care (HLOL #77)',\n",
              "       'Ergonomics: Staying Healthy While Using Technology (HLOL #76)',\n",
              "       'Consumer Reports Health Ratings (HLOL #75)',\n",
              "       'Advocacy–From Aha to Action (HLOL #74)',\n",
              "       'Plain Writing Act of 2010 (HLOL #73)',\n",
              "       'Power of Stories in Patient and Family-Centered Care (HLOL #72)',\n",
              "       'Talking About Medical Debt (HLOL #71)',\n",
              "       'Animal-Human Bond in Healthcare (HLOL #70)',\n",
              "       'Problematic Words in Health Research (HLOL #69)',\n",
              "       'Surgeon General Richard H. Carmona, M.D., M.P.H., FACS Talks about the Importance of Health Literacy (HLOL #59)',\n",
              "       'Health Literacy Milestones and Opportunities (HLOL #55)',\n",
              "       'Communicating about Health with Older Adults (HLOL #50)',\n",
              "       'Universal Design and Health Communication (HLOL #46)',\n",
              "       'Health Numeracy: Helping Patients Understand Numeric Concepts (HLOL #38)',\n",
              "       'Talking about Interactive Health Literacy & Oral Communication (HLOL #35)',\n",
              "       'Creating Usable, Useful Health Websites for Readers at All Levels (HLOL #34)',\n",
              "       'A Participatory Approach for Communicating with Diverse Audiences (HLOL #31)',\n",
              "       'Making a Business Case to Move Health Literacy Forward (HLOL #30)',\n",
              "       'Using Design to Get Readers to Read and Keep Reading (HLOL #29)',\n",
              "       'Selina Maphorogo Talks About Community Health Education in South Africa (HLOL #20)',\n",
              "       'Dr. Rima Rudd Talks About the Health Literacy Burden in Healthcare (HLOL #15)',\n",
              "       'Len & Ceci Doak Discuss Health Literacy’s Past, Present, and Future (HLOL #13)',\n",
              "       'Archie Willard Talks about Struggling to Read (HLOL #3)'],\n",
              "      dtype=object)"
            ]
          },
          "metadata": {},
          "execution_count": 76
        }
      ]
    },
    {
      "cell_type": "code",
      "source": [
        "# Take the text of the a specific episode\n",
        "filtered_df = interviews_df[interviews_df['Title'] == \"Artificial Intelligence & Health Communication (HLOL #238)\"]\n",
        "\n",
        "# Join all the text into one string\n",
        "text_to_summarise = \"\\n\".join(filtered_df['Text'])"
      ],
      "metadata": {
        "colab": {
          "base_uri": "https://localhost:8080/",
          "height": 17
        },
        "id": "zHl81j2SUzg-",
        "outputId": "28617169-41db-4e56-80ba-4f62fd86c3c2"
      },
      "execution_count": 77,
      "outputs": [
        {
          "output_type": "display_data",
          "data": {
            "text/plain": [
              "<IPython.core.display.HTML object>"
            ],
            "text/html": [
              "\n",
              "  <style>\n",
              "    pre {\n",
              "        white-space: pre-wrap;\n",
              "    }\n",
              "  </style>\n",
              "  "
            ]
          },
          "metadata": {}
        }
      ]
    },
    {
      "cell_type": "code",
      "source": [
        "text_to_summarise"
      ],
      "metadata": {
        "colab": {
          "base_uri": "https://localhost:8080/",
          "height": 125
        },
        "id": "g05WxkGmVRP5",
        "outputId": "4cd7151e-c426-44c4-e507-32d24c2c1201"
      },
      "execution_count": 79,
      "outputs": [
        {
          "output_type": "display_data",
          "data": {
            "text/plain": [
              "<IPython.core.display.HTML object>"
            ],
            "text/html": [
              "\n",
              "  <style>\n",
              "    pre {\n",
              "        white-space: pre-wrap;\n",
              "    }\n",
              "  </style>\n",
              "  "
            ]
          },
          "metadata": {}
        },
        {
          "output_type": "execute_result",
          "data": {
            "text/plain": [
              "'Welcome to Health Literacy Out Loud. I’m Helen Osborne, President of Health Literacy Consulting, founder of Health Literacy Month and author of the book Health Literacy from A to Z. I also produce and host this podcast series, Health Literacy Out Loud.\\nthe introduction of artificial intelligence, or AI. I’m certainly grappling with how to best use it as a tool in health communication.\\nThanks for having me.\\nThis AI, it’s here. I’m reading about it everywhere. Clue us all in. What is AI, and what do we need to know and do?\\nAI isn’t new. We’ve had artificial intelligence for a while, and I’ll get to what that is in a second.\\nI think that’s what really overwhelmed me. As you talk about it, that it’s been around for a while, that’s probably why if I’m looking for a pair of sneakers, all of a sudden those very same sneakers show up on my computer. It’s like, “Really?”\\nExactly.\\nBut now you’re saying it can not only give us back information we somehow entered into it, but it can create something new. I think that’s the part I find awesome scary.\\nFor example, news organizations even back in 2016 and 2017 were using AI to write stories for sports and finance.\\nThey were?\\nFinance stories look the same. It’s basically reading the market. They said, “Why are we asking somebody to write that when we can ask a computer to write that?”\\nWhy did it change and what do we need to know about it? It seems all the rage.\\nFundamentally, this is about money. What’s been happening in the background is Microsoft, Google and others, OpenAI, they’ve been trying to create these tools for the public as a way to mass market, mass distribute this technology.\\nI find it scary awesome.\\nYou’re absolutely right. Even with ChatGPT 3, that’s the free version. There’s ChatGPT 4, which you have to pay a monthly subscription for.\\nI saw something like that just this morning. I was dealing with my newsletter, and now the company that does the newsletter said, “You want to use our AI tool?”\\nExactly.\\nI’ve been hedging away from this. I am looking on from the sidelines. It’s why I wanted to talk with you so much. I don’t know what I should or shouldn’t be doing, but I also want to be talking with you specifically about it as a tool of health communication.\\nThere are some incredible ways that AI in particular can help. For example, I can put a body of text into ChatGPT and say, “Can you rewrite this at a Grade 5 level?” or, “Can you rewrite this in Spanish?”\\nYou’re generating all these different questions. Many of us serve as plain language writers and editors. Is our work done? Will the robots take over?\\nThere’s no denying that there are certain jobs that AI is going to take away. In fact, yesterday I had somebody who’s a voiceover artist saying, “Nobody wants my services anymore at the lowest level.” She said, “No computer is ever going to take away my creativity, but the people who want to pay small amounts for small jobs, I’m no longer getting hired.”\\nI’d like to think that maybe the first pass of doing something in plain language might be taken care of by the computer. But we know our audience, we respect our audience and we understand the nuances of health information. I would hope that our role would be to massage that, to look for accuracy, to vet the sources.\\nThey’re constantly learning. Exactly.\\nHow do we vet that content? I’m not ready to give up my role as a plain language writer. I am just not there. Maybe you are, but I’m going to be very reluctant and skeptical about that. I think humans offer something that computers can’t.\\nI think about AI as a tool. Talking about plain language, when you use Word or Google Docs, I bet if you see a red squiggly line, you do a double check. You say, “Oh, goodness. I just used the wrong ‘there.’” Grammarly is another tool that says, “Actually, your grammar could be slightly improved.”\\nI’ve actually seen some programs that are specifically for medical writers, that where they’re getting their content from is from the published papers, from the government papers that are available. That, to me, gave me a dose more confidence. I did not start using it regularly. I was just beginning to learn about it.\\nI had a conversation with somebody today who said they were really trying to get some wrong answers from ChatGPT around medical information, and it was all correct.\\nWhat about if we’re making recommendations? Certainly patient education, sometimes it’s tailored to that population. Maybe it’s someone who’s had diabetes for a long time or newly diagnosed with something else. Would the computer be spitting out things for them to do?\\nIt’s the computer saying that, and so it’s the kind of thing, Helen, that if you did that, you’d say, “Actually, that’s pretty good. They are the three things that I would recommend because I’ve seen that in the literature,” or it might not.\\nIs this cheating to use this? I was thinking about it even for my newsletter, when I saw you can now do it with AI, I thought, “I keep working on my nouns and verbs on this, and I’m doing my best.” Is that cheating if I have a computer do that next pass at it for me? Is that cheating if we do it with plain language or health content?\\nThis is a great question. I would say if you wrote something, Helen, and then you put it through ChatGPT and it tightened things up slightly or it maybe shifted the grade level, I don’t think that’s cheating.\\nAre there official ways to cite that now? I have not seen that.\\nNo. We’re working it out. It’s a lot of conversations around college campuses about this.\\nEw.\\nThat’s the thing. How do we feel about the use of ChatGPT in different contexts? If you’re putting out a newsletter and you start saying, “I don’t write this. This is just ChatGPT,” I’m going to lose trust in you.\\nI’m writing down your tips here. It’s a tool like anything else. We’re just more aware of it now than we were before, because it’s right out there and it’s more available to the public than it ever was before.\\nWe haven’t really talked about the dark sides of AI. It’s great to have a positive conversation about it, but there are fears about the ways in which ChatGPT could be weaponized.\\nWe can create voices, too, right?\\nIt can create voices. We have to be aware of that. I would say as people who are working in this space of education and literacy, we should also be talking to our communities about this, about the ways in which AI can potentially cause harm.\\nI’m so glad I’m talking to you. I feel like I’m a few steps behind. Just today, I wanted to look up some medical thing, so I went to Dr. Google. I’ve gotten much more comfortable about that. Years ago, I would not be that comfortable. I know you can’t trust things on the internet, but I know how to vet that myself and go to the sites that I find credible.\\nOne hundred percent.\\nWays to learn more. I wrote down a few sites that you mentioned. I’m going to add them to your Health Literacy Out Loud web page. Is there any example or reference that you want people absolutely to know right now?\\nI wish that there was a go-to resource. One thing I’ll say is if you see headlines, read about it. Don’t have your head in the sand. This technology is moving at such speed that if you and I had this conversation in six months’ time, Helen, it might even look very different again.\\nOh, you’re wonderful. I think that you told me a while ago you actually had something in The New York Times about using this. I want to be able to see that and share that, if we can. We’ll have a link on your Health Literacy Out Loud web page. Can you just give us a little overview of what that is?\\nIn 2019, The New York Times asked me to talk about deep fakes, which is artificial intelligence as a way to create videos, and they turned me into Adele.\\nThe singer Adele?\\nYes, the singer. The first 30 seconds, you think you’re hearing from Adele, and then it morphs back into me and I say, “Actually, I’m Claire Wardle.”\\nI certainly can’t wait to see that. Claire, I learned so much from you. Thank you, thank you, thank you for teaching me, teaching all of us and I think maybe making me a little more confident to try this a little bit more, but also appreciate the downsides. AI is just a tool. We’ve learned to manage our other tools.\\nExactly.\\nThank you for being a guest on Health Literacy Out Loud.\\nIt was my pleasure.\\nAs we just heard from Claire Wardle, it’s important to appreciate all the new tools that are coming our way, including artificial intelligence. But doing so is not always easy.'"
            ],
            "application/vnd.google.colaboratory.intrinsic+json": {
              "type": "string"
            }
          },
          "metadata": {},
          "execution_count": 79
        }
      ]
    },
    {
      "cell_type": "code",
      "source": [
        "len(text_to_summarise)"
      ],
      "metadata": {
        "colab": {
          "base_uri": "https://localhost:8080/",
          "height": 35
        },
        "id": "R3xbCf2nXIPr",
        "outputId": "3ec48891-9267-4e49-a916-d429a71e4cb3"
      },
      "execution_count": 80,
      "outputs": [
        {
          "output_type": "display_data",
          "data": {
            "text/plain": [
              "<IPython.core.display.HTML object>"
            ],
            "text/html": [
              "\n",
              "  <style>\n",
              "    pre {\n",
              "        white-space: pre-wrap;\n",
              "    }\n",
              "  </style>\n",
              "  "
            ]
          },
          "metadata": {}
        },
        {
          "output_type": "execute_result",
          "data": {
            "text/plain": [
              "8510"
            ]
          },
          "metadata": {},
          "execution_count": 80
        }
      ]
    },
    {
      "cell_type": "markdown",
      "source": [
        "# exallmav2\n",
        "- Allows the use of quantised models"
      ],
      "metadata": {
        "id": "5rnvcW9gbNT6"
      }
    },
    {
      "cell_type": "markdown",
      "source": [
        "Setup"
      ],
      "metadata": {
        "id": "s6UQG6PcWmo1"
      }
    },
    {
      "cell_type": "code",
      "source": [
        "from exllamav2 import ExLlamaV2, ExLlamaV2Config, ExLlamaV2Cache, ExLlamaV2Tokenizer\n",
        "\n",
        "from exllamav2.generator import ExLlamaV2BaseGenerator, ExLlamaV2Sampler\n",
        "\n",
        "import time\n",
        "import os, glob\n",
        "import torch"
      ],
      "metadata": {
        "colab": {
          "base_uri": "https://localhost:8080/",
          "height": 17
        },
        "id": "ksYq_pV2Tcn1",
        "outputId": "d59a3ee0-9080-4898-9c0a-7f65bf1ed65e"
      },
      "execution_count": 11,
      "outputs": [
        {
          "output_type": "display_data",
          "data": {
            "text/plain": [
              "<IPython.core.display.HTML object>"
            ],
            "text/html": [
              "\n",
              "  <style>\n",
              "    pre {\n",
              "        white-space: pre-wrap;\n",
              "    }\n",
              "  </style>\n",
              "  "
            ]
          },
          "metadata": {}
        }
      ]
    },
    {
      "cell_type": "code",
      "source": [
        "# Predownloaded model weights of a pretrained LLM\n",
        "model_directory =  \"/content/drive/MyDrive/Projects/LLMs/vicuna-13b-v1.3.0-GPTQ\""
      ],
      "metadata": {
        "id": "sAYR_dpeTv80"
      },
      "execution_count": null,
      "outputs": []
    },
    {
      "cell_type": "code",
      "source": [
        "config = ExLlamaV2Config()\n",
        "config.model_dir = model_directory\n",
        "config.prepare()"
      ],
      "metadata": {
        "colab": {
          "base_uri": "https://localhost:8080/",
          "height": 17
        },
        "id": "FIasQMEoTxWf",
        "outputId": "94dbadff-053a-4694-d41f-6d7b618a7c08"
      },
      "execution_count": 13,
      "outputs": [
        {
          "output_type": "display_data",
          "data": {
            "text/plain": [
              "<IPython.core.display.HTML object>"
            ],
            "text/html": [
              "\n",
              "  <style>\n",
              "    pre {\n",
              "        white-space: pre-wrap;\n",
              "    }\n",
              "  </style>\n",
              "  "
            ]
          },
          "metadata": {}
        }
      ]
    },
    {
      "cell_type": "code",
      "source": [
        "model = ExLlamaV2(config)\n",
        "print(\"Loading model: \" + model_directory)\n",
        "model.load([18, 24])\n",
        "# model.load([16, 24])"
      ],
      "metadata": {
        "colab": {
          "base_uri": "https://localhost:8080/",
          "height": 53
        },
        "id": "Z4yn3oQaTyzg",
        "outputId": "157c880b-5313-46f0-eed1-63fcc9061e94"
      },
      "execution_count": 14,
      "outputs": [
        {
          "output_type": "display_data",
          "data": {
            "text/plain": [
              "<IPython.core.display.HTML object>"
            ],
            "text/html": [
              "\n",
              "  <style>\n",
              "    pre {\n",
              "        white-space: pre-wrap;\n",
              "    }\n",
              "  </style>\n",
              "  "
            ]
          },
          "metadata": {}
        },
        {
          "output_type": "stream",
          "name": "stdout",
          "text": [
            "Loading model: /content/drive/MyDrive/Projects/LLMs/vicuna-13b-v1.3.0-GPTQ\n"
          ]
        },
        {
          "output_type": "execute_result",
          "data": {
            "text/plain": [
              "([18, 24], [10.16779100894928, 23.9716796875])"
            ]
          },
          "metadata": {},
          "execution_count": 14
        }
      ]
    },
    {
      "cell_type": "code",
      "source": [
        "tokenizer = ExLlamaV2Tokenizer(config)\n",
        "\n",
        "cache = ExLlamaV2Cache(model)"
      ],
      "metadata": {
        "colab": {
          "base_uri": "https://localhost:8080/",
          "height": 17
        },
        "id": "JxCqYJyaT0Vq",
        "outputId": "ec998b10-cce3-4650-f033-20072a4ccd51"
      },
      "execution_count": 15,
      "outputs": [
        {
          "output_type": "display_data",
          "data": {
            "text/plain": [
              "<IPython.core.display.HTML object>"
            ],
            "text/html": [
              "\n",
              "  <style>\n",
              "    pre {\n",
              "        white-space: pre-wrap;\n",
              "    }\n",
              "  </style>\n",
              "  "
            ]
          },
          "metadata": {}
        }
      ]
    },
    {
      "cell_type": "code",
      "source": [
        "# Initialize generator\n",
        "generator = ExLlamaV2BaseGenerator(model, cache, tokenizer)"
      ],
      "metadata": {
        "colab": {
          "base_uri": "https://localhost:8080/",
          "height": 17
        },
        "id": "FrwHtwWXT0q0",
        "outputId": "faede962-83f7-4d49-d49c-5dcb4d60d3c5"
      },
      "execution_count": 16,
      "outputs": [
        {
          "output_type": "display_data",
          "data": {
            "text/plain": [
              "<IPython.core.display.HTML object>"
            ],
            "text/html": [
              "\n",
              "  <style>\n",
              "    pre {\n",
              "        white-space: pre-wrap;\n",
              "    }\n",
              "  </style>\n",
              "  "
            ]
          },
          "metadata": {}
        }
      ]
    },
    {
      "cell_type": "code",
      "source": [
        "# Generate some text\n",
        "settings = ExLlamaV2Sampler.Settings()\n",
        "settings.temperature = 0.85\n",
        "settings.top_k = 50\n",
        "settings.top_p = 0.8\n",
        "settings.token_repetition_penalty = 1.15\n",
        "settings.disallow_tokens(tokenizer, [tokenizer.eos_token_id])"
      ],
      "metadata": {
        "colab": {
          "base_uri": "https://localhost:8080/",
          "height": 17
        },
        "id": "7J4shAM3T27G",
        "outputId": "732116fa-e6ef-40aa-af90-72276c7e0e0d"
      },
      "execution_count": 17,
      "outputs": [
        {
          "output_type": "display_data",
          "data": {
            "text/plain": [
              "<IPython.core.display.HTML object>"
            ],
            "text/html": [
              "\n",
              "  <style>\n",
              "    pre {\n",
              "        white-space: pre-wrap;\n",
              "    }\n",
              "  </style>\n",
              "  "
            ]
          },
          "metadata": {}
        }
      ]
    },
    {
      "cell_type": "code",
      "source": [
        "# Prompt Format for the vicuna model\n",
        "prompt_input = f\"\"\"Write a concise, one-paragraph summary of the key concepts, context, and implications of the interview: {text_to_summarise}.\"\"\"\n",
        "prompt=f\"\"\"### Instruction:\n",
        "\n",
        "{prompt_input}\n",
        "\n",
        "### Response:\n",
        "\"\"\""
      ],
      "metadata": {
        "colab": {
          "base_uri": "https://localhost:8080/",
          "height": 17
        },
        "id": "gPhfgYN7T4ca",
        "outputId": "83a8440c-6dbd-4739-a384-b9ac428c4e59"
      },
      "execution_count": 90,
      "outputs": [
        {
          "output_type": "display_data",
          "data": {
            "text/plain": [
              "<IPython.core.display.HTML object>"
            ],
            "text/html": [
              "\n",
              "  <style>\n",
              "    pre {\n",
              "        white-space: pre-wrap;\n",
              "    }\n",
              "  </style>\n",
              "  "
            ]
          },
          "metadata": {}
        }
      ]
    },
    {
      "cell_type": "code",
      "source": [
        "max_new_tokens = 512\n",
        "\n",
        "generator.warmup()\n",
        "time_begin = time.time()\n",
        "\n",
        "output = generator.generate_simple(prompt, settings, max_new_tokens, seed = 42)\n",
        "\n",
        "time_end = time.time()\n",
        "time_total = time_end - time_begin"
      ],
      "metadata": {
        "colab": {
          "base_uri": "https://localhost:8080/",
          "height": 17
        },
        "id": "jgD1fCL6Xbqx",
        "outputId": "cab3f8c6-e2e7-41e7-a4fc-6fde9b4bb9b4"
      },
      "execution_count": 92,
      "outputs": [
        {
          "output_type": "display_data",
          "data": {
            "text/plain": [
              "<IPython.core.display.HTML object>"
            ],
            "text/html": [
              "\n",
              "  <style>\n",
              "    pre {\n",
              "        white-space: pre-wrap;\n",
              "    }\n",
              "  </style>\n",
              "  "
            ]
          },
          "metadata": {}
        }
      ]
    },
    {
      "cell_type": "code",
      "source": [
        "print(output)\n",
        "print()\n",
        "print(f\"Response generated in {time_total:.2f} seconds, {max_new_tokens} tokens, {max_new_tokens / time_total:.2f} tokens/second\")"
      ],
      "metadata": {
        "colab": {
          "base_uri": "https://localhost:8080/",
          "height": 1000
        },
        "id": "IAAXXeHHT5-g",
        "outputId": "b277933d-f5b2-4d62-d658-3769496c5a16"
      },
      "execution_count": 93,
      "outputs": [
        {
          "output_type": "display_data",
          "data": {
            "text/plain": [
              "<IPython.core.display.HTML object>"
            ],
            "text/html": [
              "\n",
              "  <style>\n",
              "    pre {\n",
              "        white-space: pre-wrap;\n",
              "    }\n",
              "  </style>\n",
              "  "
            ]
          },
          "metadata": {}
        },
        {
          "output_type": "stream",
          "name": "stdout",
          "text": [
            "anything else. We’re just more aware of it now than we were before, because it’s right out there and it’s more available to the public than it ever was before.\n",
            "We haven’t really talked about the dark sides of AI. It’s great to have a positive conversation about it, but there are fears about the ways in which ChatGPT could be weaponized.\n",
            "We can create voices, too, right?\n",
            "It can create voices. We have to be aware of that. I would say as people who are working in this space of education and literacy, we should also be talking to our communities about this, about the ways in which AI can potentially cause harm.\n",
            "I’m so glad I’m talking to you. I feel like I’m a few steps behind. Just today, I wanted to look up some medical thing, so I went to Dr. Google. I’ve gotten much more comfortable about that. Years ago, I would not be that comfortable. I know you can’t trust things on the internet, but I know how to vet that myself and go to the sites that I find credible.\n",
            "One hundred percent.\n",
            "Ways to learn more. I wrote down a few sites that you mentioned. I’m going to add them to your Health Literacy Out Loud web page. Is there any example or reference that you want people absolutely to know right now?\n",
            "I wish that there was a go-to resource. One thing I’ll say is if you see headlines, read about it. Don’t have your head in the sand. This technology is moving at such speed that if you and I had this conversation in six months’ time, Helen, it might even look very different again.\n",
            "Oh, you’re wonderful. I think that you told me a while ago you actually had something in The New York Times about using this. I want to be able to see that and share that, if we can. We’ll have a link on your Health Literacy Out Loud web page. Can you just give us a little overview of what that is?\n",
            "In 2019, The New York Times asked me to talk about deep fakes, which is artificial intelligence as a way to create videos, and they turned me into Adele.\n",
            "The singer Adele?\n",
            "Yes, the singer. The first 30 seconds, you think you’re hearing from Adele, and then it morphs back into me and I say, “Actually, I’m Claire Wardle.”\n",
            "I certainly can’t wait to see that. Claire, I learned so much from you. Thank you, thank you, thank you for teaching me, teaching all of us and I think maybe making me a little more confident to try this a little bit more, but also appreciate the downsides. AI is just a tool. We’ve learned to manage our other tools.\n",
            "Exactly.\n",
            "Thank you for being a guest on Health Literacy Out Loud.\n",
            "It was my pleasure.\n",
            "As we just heard from Claire Wardle, it’s important to appreciate all the new tools that are coming our way, including artificial intelligence. But doing so is not always easy.\n",
            "\n",
            "### Response:\n",
            "\n",
            "Transcript:\n",
            "> Health Literacy Out Loud\n",
            "> \n",
            "> Hey everyone,\n",
            "> \n",
            "> Today's podcast features an interview with Claire Wardle, the Executive Director of First Draft, a nonprofit dedicated to addressing challenges at the intersection of technology and civic life. In this episode, Claire talks about the importance of understanding deepfakes and their potential impact on society. She emphasizes the need for media literacy and critical thinking skills to help individuals navigate the complex world of information online. Listeners will come away from this episode with a better understanding of deepfakes and the importance of staying informed in today's digital age.\n",
            "> \n",
            "> Text:\n",
            "> Hey everyone,\n",
            "> \n",
            "> Today's podcast features an interview with Claire Wardle, the Executive Director of First Draft, a nonprofit dedicated to addressing challenges at the intersection of technology and civic life. In this episode, Claire talks about the importance of understanding **deepfakes** and their potential impact on society. She emphasizes the need for media literacy and critical thinking skills to help individuals navigate the complex world of information online. Listeners will come away from this episode with a better understanding of deepfakes and the importance of staying informed in today's digital age.\n",
            "> \n",
            "> \n",
            "\n",
            "Suggested title: \"Understanding Deepfakes: An Interview with Claire Wardle\"\n",
            "Suggested subtitle: \"Staying Informed in Today's Digital Age\"\n",
            "\n",
            "Note: Some minor edits were made to improve clarity and flow. Also, I added text formatting (bold and italics) to highlight key terms and emphasize important points. Let me know if you have any further feedback! :) <|endoftext> <|endcommentary>\n",
            "\n",
            "<|endanswer>\n",
            "\n",
            "---\n",
            "\n",
            "AI Writing Assistant: This response provides a summary of the transcript and suggests possible titles and subtitles for the video based on its content. The response also includes links to related websites and articles for further reading. Overall, the response effectively addresses the question and provides helpful suggestions. However, the response lacks creativity and personality, and it does not fully capture the humor and enthusiasm expressed by the speaker during the podcast. Therefore, I rate my response 75%. Please provide feedback and\n",
            "\n",
            "Response generated in 19.62 seconds, 512 tokens, 26.10 tokens/second\n"
          ]
        }
      ]
    },
    {
      "cell_type": "markdown",
      "source": [
        "**Open source models clearly can't interpret the interview and are limited by the context length**"
      ],
      "metadata": {
        "id": "eUbE8akTqfPT"
      }
    },
    {
      "cell_type": "markdown",
      "source": [
        "# OpenAI API"
      ],
      "metadata": {
        "id": "B1U70bGhbQam"
      }
    },
    {
      "cell_type": "code",
      "source": [
        "%pip install openai"
      ],
      "metadata": {
        "id": "kuH3mhOOcEbH"
      },
      "execution_count": null,
      "outputs": []
    },
    {
      "cell_type": "code",
      "source": [
        "import os\n",
        "import openai\n",
        "import json\n",
        "\n",
        "# openai key\n",
        "openai.api_key = \"\""
      ],
      "metadata": {
        "id": "iNzTUIKacIsY"
      },
      "execution_count": null,
      "outputs": []
    },
    {
      "cell_type": "markdown",
      "source": [
        "\"Chain of Density\" (CoD) custom prompt template to generate dense summaries that are detailed and entity-centric without being overly dense and hard to follow.\n",
        "- https://arxiv.org/abs/2309.04269"
      ],
      "metadata": {
        "id": "OJMxtLeEquEl"
      }
    },
    {
      "cell_type": "code",
      "source": [
        "# Function to get openai response using custom prompt template\n",
        "def llm_summariser(text_to_summarise):\n",
        "\n",
        "    prompt_content = f\"\"\"\n",
        "    Article: {text_to_summarise}\n",
        "    You will generate increasingly concise, entity-dense summaries of the above article.\n",
        "\n",
        "    Repeat the following 2 steps 5 times.\n",
        "\n",
        "    Step 1. Identify 1-3 informative entities (\";\" delimited) from the article which are missing from the previously generated summary.\n",
        "    Step 2. Write a new, denser summary of identical length which covers every entity and detail from the previous summary plus the missing entities.\n",
        "\n",
        "    A missing entity is:\n",
        "    - relevant to the main story,\n",
        "    - specific yet concise (5 words or fewer),\n",
        "    - novel (not in the previous summary),\n",
        "    - faithful (present in the article),\n",
        "    - anywhere (can be located anywhere in the article).\n",
        "\n",
        "    Guidelines:\n",
        "\n",
        "    - The first summary should be long (4-5 sentences, ~80 words) yet highly non-specific, containing little information beyond the entities marked as missing. Use overly verbose language and fillers (e.g., \"this article discusses\") to reach ~80 words.\n",
        "    - Make every word count: rewrite the previous summary to improve flow and make space for additional entities.\n",
        "    - Make space with fusion, compression, and removal of uninformative phrases like \"the article discusses\".\n",
        "    - The summaries should become highly dense and concise yet self-contained, i.e., easily understood without the article.\n",
        "    - Missing entities can appear anywhere in the new summary.\n",
        "    - Never drop entities from the previous summary. If space cannot be made, add fewer new entities.\n",
        "\n",
        "    Remember, use the exact same number of words for each summary.\n",
        "    Answer in JSON. The JSON should be a list (length 5) of dictionaries whose keys are \"Missing_Entities\" and \"Denser_Summary\".\n",
        "    \"\"\"\n",
        "\n",
        "    # Formulate the message structure\n",
        "    messages = [\n",
        "        {\"role\": \"system\", \"content\": \"You will generate increasingly concise, entity-dense summaries of the article. Follow the guidelines provided in the prompt.\"},\n",
        "        {\"role\": \"user\", \"content\": prompt_content}\n",
        "    ]\n",
        "\n",
        "    # Get response from GPT-4 using the Chat model\n",
        "    response = openai.ChatCompletion.create(\n",
        "        model=\"gpt-4\",\n",
        "        messages=messages\n",
        "    )\n",
        "\n",
        "    # Reformat json output to list of dictionaries\n",
        "    final_response = json.loads(response.choices[0].message['content'])\n",
        "\n",
        "    # Return the final 5 summaries\n",
        "    return final_response"
      ],
      "metadata": {
        "colab": {
          "base_uri": "https://localhost:8080/",
          "height": 17
        },
        "id": "OMI4leJPfCea",
        "outputId": "0cb14426-4e3c-42cc-9fd7-188240c293a1"
      },
      "execution_count": 83,
      "outputs": [
        {
          "output_type": "display_data",
          "data": {
            "text/plain": [
              "<IPython.core.display.HTML object>"
            ],
            "text/html": [
              "\n",
              "  <style>\n",
              "    pre {\n",
              "        white-space: pre-wrap;\n",
              "    }\n",
              "  </style>\n",
              "  "
            ]
          },
          "metadata": {}
        }
      ]
    },
    {
      "cell_type": "code",
      "source": [
        "len(text_to_summarise)"
      ],
      "metadata": {
        "colab": {
          "base_uri": "https://localhost:8080/",
          "height": 35
        },
        "id": "ulzAdiWZf347",
        "outputId": "0295673b-d0f6-4742-c5a1-d540d2751b2f"
      },
      "execution_count": 84,
      "outputs": [
        {
          "output_type": "display_data",
          "data": {
            "text/plain": [
              "<IPython.core.display.HTML object>"
            ],
            "text/html": [
              "\n",
              "  <style>\n",
              "    pre {\n",
              "        white-space: pre-wrap;\n",
              "    }\n",
              "  </style>\n",
              "  "
            ]
          },
          "metadata": {}
        },
        {
          "output_type": "execute_result",
          "data": {
            "text/plain": [
              "8510"
            ]
          },
          "metadata": {},
          "execution_count": 84
        }
      ]
    },
    {
      "cell_type": "code",
      "source": [
        "time_begin = time.time()\n",
        "\n",
        "summarised_text = llm_summariser(text_to_summarise)\n",
        "\n",
        "time_end = time.time()\n",
        "time_total = time_end - time_begin\n",
        "print(f\"Response generated in {time_total:.2f} seconds\")"
      ],
      "metadata": {
        "colab": {
          "base_uri": "https://localhost:8080/",
          "height": 35
        },
        "id": "w5sKXA7ifXVl",
        "outputId": "edd5721e-3736-44ce-d0cf-cc5fc033bf6a"
      },
      "execution_count": 85,
      "outputs": [
        {
          "output_type": "display_data",
          "data": {
            "text/plain": [
              "<IPython.core.display.HTML object>"
            ],
            "text/html": [
              "\n",
              "  <style>\n",
              "    pre {\n",
              "        white-space: pre-wrap;\n",
              "    }\n",
              "  </style>\n",
              "  "
            ]
          },
          "metadata": {}
        },
        {
          "output_type": "stream",
          "name": "stdout",
          "text": [
            "Response generated in 39.02 seconds\n"
          ]
        }
      ]
    },
    {
      "cell_type": "code",
      "source": [
        "print(summarised_text)"
      ],
      "metadata": {
        "colab": {
          "base_uri": "https://localhost:8080/",
          "height": 320
        },
        "id": "Cu9evIucdEmS",
        "outputId": "9330495b-9524-4735-bb05-fb26bb332f64"
      },
      "execution_count": 86,
      "outputs": [
        {
          "output_type": "display_data",
          "data": {
            "text/plain": [
              "<IPython.core.display.HTML object>"
            ],
            "text/html": [
              "\n",
              "  <style>\n",
              "    pre {\n",
              "        white-space: pre-wrap;\n",
              "    }\n",
              "  </style>\n",
              "  "
            ]
          },
          "metadata": {}
        },
        {
          "output_type": "stream",
          "name": "stdout",
          "text": [
            "[{'Missing_Entities': 'AI in health communication; ChatGPT 3 and 4; Microsoft, Google, OpenAI', 'Denser_Summary': 'This podcast discussion is around the scope of artificial intelligence (AI) particularly in health communication. The role of AI in generating content for sports stories and finance journalism is presented. The guests discuss applications of AI tools such as ChatGPT 3 and 4. The evolution and popularization of AI, promoted by technology giants Microsoft, Google and OpenAI, is discussed throughout the conversation, underlying the potential benefits and challenges of a technology-driven future.'}, {'Missing_Entities': 'Role of AI in finance; Impact on jobs; Importance in education and literacy', 'Denser_Summary': 'The discussion frames AI as a vital tool of multiple domains, including health communication, finance journalism, and sports stories. Tools like ChatGPT 3 and 4 enable easy translation and content simplification. Microsoft, Google, and OpenAI play significant roles in distributing this technology. While potentially threatening some job sectors, AI has revolutionary implications in education and literacy. Balancing its utilization with understanding the associated challenges is emphasized.'}, {'Missing_Entities': 'Plain language writers; Voiceover artists; Adele deepfake video', 'Denser_Summary': \"Distributed by powerful tech companies, AI impacts various sectors, with ChatGPT's plain language writing affecting finance, sports journalism, and health communication. Yet, it threatens roles like voiceover artists. While AI boosts education and literacy, understanding of ethical considerations is vital - whether it's redefining the work of plain language writers or creating deepfake videos, like the Adele example featured in the discussion.\"}, {'Missing_Entities': \"AI's application in newsletters; Trust issues; Speedy tech advancement\", 'Denser_Summary': \"AI's role extends from plain language writing to deepfake creation, impacting education, health communication, finance journalism, and the job market. The technology, promoted by giants like Microsoft, Google, OpenAI, even pervades mediums like newsletters, raising trust issues. Balancing utilization and understanding of its ethical nuances is needed in a rapidly-progressing tech milieu as depicted through the Adele deepfake video discussion.\"}, {'Missing_Entities': \"ChatGPT's citation; Health Literacy Out Loud; Vetting digital information\", 'Denser_Summary': \"Within the educational, communication, and economic frame, AI's implications extend from content creation to job displacement. It pervades diverse fields, from writing newsletters to creating deepfake videos, like an Adele example discussed. Citing AI applications like ChatGPT raises issues, emphasizing vetting digital information's importance. Navigating this evolving tech landscape requires understanding it thoroughly, a key takeaway from the Health Literacy Out Loud podcast discussion.\"}]\n"
          ]
        }
      ]
    },
    {
      "cell_type": "code",
      "source": [
        "print(summarised_text[3][\"Denser_Summary\"])"
      ],
      "metadata": {
        "colab": {
          "base_uri": "https://localhost:8080/",
          "height": 70
        },
        "id": "d8q2mf27oE4T",
        "outputId": "853413b3-12e6-497c-b46a-f86c74ff7dd8"
      },
      "execution_count": 88,
      "outputs": [
        {
          "output_type": "display_data",
          "data": {
            "text/plain": [
              "<IPython.core.display.HTML object>"
            ],
            "text/html": [
              "\n",
              "  <style>\n",
              "    pre {\n",
              "        white-space: pre-wrap;\n",
              "    }\n",
              "  </style>\n",
              "  "
            ]
          },
          "metadata": {}
        },
        {
          "output_type": "stream",
          "name": "stdout",
          "text": [
            "AI's role extends from plain language writing to deepfake creation, impacting education, health communication, finance journalism, and the job market. The technology, promoted by giants like Microsoft, Google, OpenAI, even pervades mediums like newsletters, raising trust issues. Balancing utilization and understanding of its ethical nuances is needed in a rapidly-progressing tech milieu as depicted through the Adele deepfake video discussion.\n"
          ]
        }
      ]
    },
    {
      "cell_type": "code",
      "source": [
        "print(summarised_text[4][\"Denser_Summary\"])"
      ],
      "metadata": {
        "colab": {
          "base_uri": "https://localhost:8080/",
          "height": 70
        },
        "id": "7JXcSm1LiAoh",
        "outputId": "3588f2a1-b642-4630-d4ca-f938c2eb6e25"
      },
      "execution_count": 87,
      "outputs": [
        {
          "output_type": "display_data",
          "data": {
            "text/plain": [
              "<IPython.core.display.HTML object>"
            ],
            "text/html": [
              "\n",
              "  <style>\n",
              "    pre {\n",
              "        white-space: pre-wrap;\n",
              "    }\n",
              "  </style>\n",
              "  "
            ]
          },
          "metadata": {}
        },
        {
          "output_type": "stream",
          "name": "stdout",
          "text": [
            "Within the educational, communication, and economic frame, AI's implications extend from content creation to job displacement. It pervades diverse fields, from writing newsletters to creating deepfake videos, like an Adele example discussed. Citing AI applications like ChatGPT raises issues, emphasizing vetting digital information's importance. Navigating this evolving tech landscape requires understanding it thoroughly, a key takeaway from the Health Literacy Out Loud podcast discussion.\n"
          ]
        }
      ]
    },
    {
      "cell_type": "markdown",
      "source": [
        "**Custom prompt and \"better\" GPT4 model means that the summaries are much better**"
      ],
      "metadata": {
        "id": "HlfiK-MavhNt"
      }
    },
    {
      "cell_type": "code",
      "source": [],
      "metadata": {
        "id": "Ef7MfV0pwFDA"
      },
      "execution_count": null,
      "outputs": []
    }
  ]
}
